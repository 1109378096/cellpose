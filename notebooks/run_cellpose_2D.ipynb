{
 "cells": [
  {
   "cell_type": "code",
   "execution_count": 79,
   "metadata": {},
   "outputs": [
    {
     "name": "stdout",
     "output_type": "stream",
     "text": [
      "['../web/static/images/img00.png', '../web/static/images/img01.png', '../web/static/images/img02.png', '../web/static/images/img03.png', '../web/static/images/img04.png', '../web/static/images/img05.png', '../web/static/images/img06.png', '../web/static/images/img07.png', '../web/static/images/img08.png', '../web/static/images/img09.png', '../web/static/images/img10.png', '../web/static/images/img11.png', '../web/static/images/img12.png', '../web/static/images/img13.png', '../web/static/images/img14.png', '../web/static/images/img15.png', '../web/static/images/img16.png', '../web/static/images/img17.png', '../web/static/images/img18.png', '../web/static/images/img19.png', '../web/static/images/img20.png', '../web/static/images/img21.png', '../web/static/images/img22.png']\n"
     ]
    },
    {
     "name": "stderr",
     "output_type": "stream",
     "text": [
      "100%|██████████| 23/23 [00:19<00:00,  1.19it/s]\n",
      "100%|██████████| 23/23 [00:18<00:00,  1.21it/s]\n",
      "  0%|          | 0/23 [00:00<?, ?it/s]"
     ]
    },
    {
     "name": "stdout",
     "output_type": "stream",
     "text": [
      "estimated cell diameters for all images\n"
     ]
    },
    {
     "name": "stderr",
     "output_type": "stream",
     "text": [
      "100%|██████████| 23/23 [00:18<00:00,  1.22it/s]\n"
     ]
    }
   ],
   "source": [
    "import numpy as np\n",
    "from natsort import natsorted\n",
    "import skimage\n",
    "import time, os, sys\n",
    "import mxnet as mx\n",
    "from mxnet import gluon, gpu, nd, kv, cpu\n",
    "from mxnet.gluon import nn\n",
    "from mxnet.gluon.model_zoo import vision\n",
    "from matplotlib import pyplot as plt\n",
    "import matplotlib.pyplot as plt\n",
    "import glob\n",
    "import sys\n",
    "sys.path.insert(0,'/github/cellpose/')\n",
    "from cellpose import models, utils, plot\n",
    "import imp\n",
    "imp.reload(utils)\n",
    "imp.reload(models)\n",
    "\n",
    "# going to use an example the images from the cellpose website\n",
    "root_dir = '../web/static/images/' # image directory\n",
    "exts = ['*.png', '*.tiff', '*.tif', '*.jpg', '*.jpeg'] # extensions of images\n",
    "\n",
    "# list of files\n",
    "image_files = []\n",
    "for e in exts:\n",
    "    image_files.extend(glob.glob(root_dir + 'img' + e)) # I only want 'img' files\n",
    "    #image_files.extend(glob.glob(root_dir + e))\n",
    "image_files = natsorted(image_files)\n",
    "nimg = len(image_files)\n",
    "# name of files\n",
    "files = [os.path.splitext(os.path.split(image_files[i])[1])[0] for i in range(nimg)]\n",
    "print(image_files)\n",
    "\n",
    "# define CHANNELS to run segementation on\n",
    "# grayscale=0, R=1, G=2, B=3\n",
    "# channels = [cytoplasm, nucleus]\n",
    "# if NUCLEUS channel does not exist, set the second channel to 0\n",
    "channels = [[2,3], [0,0], [2,3], [0,0], [2,3], [0,0], [2,3], [0,0],\n",
    "            [0,0], [2,3], [0,0], [2,3], [0,0], [0,0], [0,0], [0,0], \n",
    "            [2,3], [0,0], [2,3], [0,0], [2,3], [0,0], [0,0]]\n",
    "# IF ALL YOUR IMAGES ARE THE SAME TYPE, you can give a list with 2 elements\n",
    "# channels = [0,0] # IF YOU HAVE GRAYSCALE\n",
    "# channels = [2,3] # IF YOU HAVE G=cytoplasm and B=nucleus\n",
    "# channels = [2,1] # IF YOU HAVE G=cytoplasm and R=nucleus\n",
    "\n",
    "imgs = [skimage.io.imread(image_files[i]) for i in range(nimg)]\n",
    "\n",
    "# check if GPU working, and if so use it\n",
    "use_gpu = utils.use_gpu()\n",
    "if use_gpu:\n",
    "    device = mx.gpu()\n",
    "else:\n",
    "    device = mx.cpu()\n",
    "\n",
    "model = models.Cellpose(device)\n",
    "\n",
    "# if rescale is set to None, the size of the cells is estimated on a per image basis\n",
    "# if you want to set the size yourself, set it to 27. / average_cell_diameter\n",
    "masks, flows, styles, diams = model.eval(imgs, rescale=1.0, channels=channels)\n",
    "\n",
    "for idx in range(nimg):\n",
    "    img = imgs[idx]\n",
    "    maski = masks[idx]\n",
    "    flowi = flows[idx][0]\n",
    "\n",
    "\n",
    "    fig = plt.figure(figsize=(12,3))\n",
    "    # can save images (set save_dir=None if not)\n",
    "    plot.show_segmentation(fig, img, maski, flowi, save_path='../web/static/segs/'+files[idx])\n",
    "    plt.tight_layout()\n",
    "    plt.show()"
   ]
  },
  {
   "cell_type": "code",
   "execution_count": 19,
   "metadata": {},
   "outputs": [
    {
     "data": {
      "text/plain": [
       "array([30.52860475, 26.75817632, 26.07678142, 29.81610303, 26.98147513,\n",
       "       27.47726333, 27.31300057, 26.47640459, 28.35489376, 28.35489376,\n",
       "       25.94224354, 28.24889378, 28.24889378, 28.01776052, 26.0288284 ,\n",
       "       27.07397274, 27.09203206, 26.48570904, 27.05549852, 26.29637212,\n",
       "       26.60826939, 29.61414247, 27.27635723])"
      ]
     },
     "execution_count": 19,
     "metadata": {},
     "output_type": "execute_result"
    }
   ],
   "source": [
    "diams"
   ]
  }
 ],
 "metadata": {
  "kernelspec": {
   "display_name": "Python 3",
   "language": "python",
   "name": "python3"
  },
  "language_info": {
   "codemirror_mode": {
    "name": "ipython",
    "version": 3
   },
   "file_extension": ".py",
   "mimetype": "text/x-python",
   "name": "python",
   "nbconvert_exporter": "python",
   "pygments_lexer": "ipython3",
   "version": "3.6.10"
  },
  "varInspector": {
   "cols": {
    "lenName": 16,
    "lenType": 16,
    "lenVar": 40
   },
   "kernels_config": {
    "python": {
     "delete_cmd_postfix": "",
     "delete_cmd_prefix": "del ",
     "library": "var_list.py",
     "varRefreshCmd": "print(var_dic_list())"
    },
    "r": {
     "delete_cmd_postfix": ") ",
     "delete_cmd_prefix": "rm(",
     "library": "var_list.r",
     "varRefreshCmd": "cat(var_dic_list()) "
    }
   },
   "types_to_exclude": [
    "module",
    "function",
    "builtin_function_or_method",
    "instance",
    "_Feature"
   ],
   "window_display": false
  }
 },
 "nbformat": 4,
 "nbformat_minor": 4
}
